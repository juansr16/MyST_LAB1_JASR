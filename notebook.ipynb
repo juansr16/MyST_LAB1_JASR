{
 "cells": [
  {
   "cell_type": "markdown",
   "source": [
    "<img src=\"http://oci02.img.iteso.mx/identidad_de_instancia_2018/ITESO/Logos%20ITESO/Logo-ITESO-Principal.jpg\">"
   ],
   "metadata": {
    "collapsed": false
   }
  },
  {
   "cell_type": "markdown",
   "source": [
    "<center><font color=#555555><font size=6> Ingeniería Financiera </font> <br> <br>\n",
    "\n",
    "<center><font color=#555555><font size=5> ITE1731 - Microestructura y Sistemas de Trading </font> <br> <br> <br>\n",
    "\n",
    "<center><font color=#555555><font size=5> I.F. Juan Andres Serrano Rivera </font> <br> <br>\n",
    "   \n",
    "<center> <font color= #555555> <font size = 4> Febrero 2021 </a> | <font color= #555555> <font size = 4> Repositorio: <a href='https://github.com/juansr16/MyST_LAB1_JFME'>Link</a></font>"
   ],
   "metadata": {
    "collapsed": false
   }
  },
  {
   "cell_type": "markdown",
   "source": [
    "<br>"
   ],
   "metadata": {
    "collapsed": false
   }
  },
  {
   "cell_type": "markdown",
   "source": [
    "---"
   ],
   "metadata": {
    "collapsed": false
   }
  },
  {
   "cell_type": "markdown",
   "source": [
    "<br>"
   ],
   "metadata": {
    "collapsed": false
   }
  },
  {
   "cell_type": "markdown",
   "source": [
    "<br>"
   ],
   "metadata": {
    "collapsed": false
   }
  },
  {
   "cell_type": "markdown",
   "source": [
    "<center> <font color= #555555> <font size = 7> Laboratorio 1 </font> <br> <br> <font color= #555555> <font size = 5> Inversión del Capital </font>"
   ],
   "metadata": {
    "collapsed": false
   }
  },
  {
   "cell_type": "markdown",
   "source": [
    "# <font color= #555555> <font size = 5> Abstract </font>"
   ],
   "metadata": {
    "collapsed": false
   }
  },
  {
   "cell_type": "markdown",
   "source": [
    "<font color= #6B6B6B> <font size = 2> Este documento fue elaborado por tu **Juan Andres Serrano**, como un trabajo parcial para la materia de **Microestructura y Sistemas de Trading - ITE1731**, la cual es parte del curriculum de la licenciatura en Ingeniería Financiera, ofertada por la universidad **ITESO**. En el presente trabajo se plantea la respuesta a la siguiente pregutna: *¿Qué estrategia de inversión propondrías si tu trabajo fuera administrar 1 Millón de pesos?*</font> "
   ],
   "metadata": {
    "collapsed": false
   }
  },
  {
   "cell_type": "markdown",
   "source": [
    "<br>"
   ],
   "metadata": {
    "collapsed": false
   }
  },
  {
   "cell_type": "markdown",
   "source": [
    "# <font color= #6B6B6B> <font size = 6> 0. Librerías y Dependencias </font>"
   ],
   "metadata": {
    "collapsed": false
   }
  },
  {
   "cell_type": "markdown",
   "source": [
    "<hr style=\"border:0.02in solid gray\"> </hr>"
   ],
   "metadata": {
    "collapsed": false
   }
  },
  {
   "cell_type": "markdown",
   "source": [
    "# <font color= #6B6B6B> <font size = 5> 0.1 Librerías </font> <font color= #555555>"
   ],
   "metadata": {
    "collapsed": false
   }
  },
  {
   "cell_type": "markdown",
   "source": [
    "Para correr este notebook es necesario tener instaladas y/o en el archivo _requirements.txt_ las siguientes librerías :"
   ],
   "metadata": {
    "collapsed": false
   }
  },
  {
   "cell_type": "markdown",
   "source": [
    "- pandas>=1.1.0\n",
    "- numpy>=1.19.1\n",
    "- jupyter>=1.0.0\n",
    "- yfinance>=0.1.55\n",
    "- fire~=0.4.0\n",
    "- math = 3.9.1"
   ],
   "metadata": {
    "collapsed": false
   }
  },
  {
   "cell_type": "code",
   "execution_count": null,
   "outputs": [],
   "source": [
    "import pandas as pd\n",
    "import yfinance as yf\n",
    "import numpy as np\n",
    "import math\n",
    "\n",
    "from os import path, listdir\n",
    "from os.path import isfile, join"
   ],
   "metadata": {
    "collapsed": false,
    "pycharm": {
     "name": "#%%\n"
    }
   }
  },
  {
   "cell_type": "markdown",
   "source": [
    "# <font color= #6B6B6B> <font size = 5> 0.2 Dependencias </font> <font color= #555555>"
   ],
   "metadata": {
    "collapsed": false
   }
  },
  {
   "cell_type": "markdown",
   "source": [
    "Para correr este notebook es necesario contar con los siguientes archivos y dependencias externas:"
   ],
   "metadata": {
    "collapsed": false
   }
  },
  {
   "cell_type": "markdown",
   "source": [
    "- files/NAFTRAC_holdings.zip :Datos sobre replicas del indice"
   ],
   "metadata": {
    "collapsed": false
   }
  },
  {
   "cell_type": "markdown",
   "source": [
    "<br> "
   ],
   "metadata": {
    "collapsed": false
   }
  },
  {
   "cell_type": "markdown",
   "source": [
    "# <font color= #6B6B6B> <font size = 6> 1. Introducción </font>"
   ],
   "metadata": {
    "collapsed": false
   }
  },
  {
   "cell_type": "markdown",
   "source": [
    "<hr style=\"border:0.02in solid gray\"> </hr>"
   ],
   "metadata": {
    "collapsed": false
   }
  },
  {
   "cell_type": "markdown",
   "source": [],
   "metadata": {
    "collapsed": false
   }
  },
  {
   "cell_type": "markdown",
   "source": [
    "<br> En de este proyecto se puede ver cuales son las consecuencias de haber invertido en un ETF, y hacerlo en un modo pasivo lo que significa que, no habra rebalanceos en el portafolio.\n",
    "Para este se simulara una inversion de $1,000,000$ de pesos en el ETF de Blackrock, NAFTRAC, en el cual se asumira una comision de $0.00125$ por transaccion.\n",
    "Al final se podrá ver una tabla con el rendimiento y rendimiento acumulado de la serie de tiempo."
   ],
   "metadata": {
    "collapsed": false
   }
  },
  {
   "cell_type": "markdown",
   "source": [
    "# <font color= #6B6B6B> <font size = 6> 2. Objetivos </font>"
   ],
   "metadata": {
    "collapsed": false
   }
  },
  {
   "cell_type": "markdown",
   "source": [
    "<hr style=\"border:0.02in solid gray\"> </hr>"
   ],
   "metadata": {
    "collapsed": false
   }
  },
  {
   "cell_type": "markdown",
   "source": [],
   "metadata": {
    "collapsed": false
   }
  },
  {
   "cell_type": "markdown",
   "source": [
    "<br> El objetivo de este algoritmo es crear una serie de tiempo, utilizando precios historicos, con datos desde enero del 2018 hasta enero del 2021, y asi replicar lo que serian los rendimientos de haber hecho esta inversion."
   ],
   "metadata": {
    "collapsed": false
   }
  },
  {
   "cell_type": "markdown",
   "source": [
    "# <font color= #6B6B6B> <font size = 6> 3. Datos </font>"
   ],
   "metadata": {
    "collapsed": false
   }
  },
  {
   "cell_type": "markdown",
   "source": [
    "<hr style=\"border:0.02in solid gray\"> </hr>"
   ],
   "metadata": {
    "collapsed": false
   }
  },
  {
   "cell_type": "markdown",
   "source": [],
   "metadata": {
    "collapsed": false
   }
  },
  {
   "cell_type": "markdown",
   "source": [
    "Para este codigo hay que utilizar los datos sobre el ETF NAFTRAC, dde blackrock, y descarga de precios historicos de Yahoo Finance.\n",
    "Tambien se definen las fechas de revision del portafolio con las fechas de rebalanceo de NAFTRAC, mensualmente."
   ],
   "metadata": {
    "collapsed": false
   }
  },
  {
   "cell_type": "code",
   "execution_count": null,
   "outputs": [],
   "source": [
    "# Obtener fechas y agregar fecha inicial\n",
    "abspath = path.abspath('C:/Users/JASR/Documents/Semestre Primavera 2021/Microestructura y Sistemas de '\n",
    "                       'Trading/MyST_LAB1_JFME/files/naftrac_holdings_dec_2020/NAFTRAC_holdings/')\n",
    "dates = [f[8:-4] for f in listdir(abspath) if isfile(join(abspath, f))]\n",
    "# Fecha anterior a la inversion\n",
    "dates.append('300118')\n",
    "\n",
    "# Obtener datos\n",
    "data = pd.read_csv(abspath + '/NAFTRAC_310118.csv', skiprows=[0, 1])\n",
    "data = data.dropna()\n",
    "\n",
    "data.head()"
   ],
   "metadata": {
    "collapsed": false,
    "pycharm": {
     "name": "#%%\n"
    }
   }
  },
  {
   "cell_type": "markdown",
   "source": [
    "<br>"
   ],
   "metadata": {
    "collapsed": false
   }
  },
  {
   "cell_type": "markdown",
   "source": [
    "# <font color= #6B6B6B> <font size = 6> 4. Procesos </font>"
   ],
   "metadata": {
    "collapsed": false
   }
  },
  {
   "cell_type": "markdown",
   "source": [
    "<hr style=\"border:0.02in solid gray\"> </hr>"
   ],
   "metadata": {
    "collapsed": false
   }
  },
  {
   "cell_type": "code",
   "execution_count": null,
   "outputs": [],
   "source": [
    "import functions as fn"
   ],
   "metadata": {
    "collapsed": false,
    "pycharm": {
     "name": "#%%\n"
    }
   }
  },
  {
   "cell_type": "markdown",
   "source": [
    "## Tickers\n",
    "Pimero hay que obtener los tickers, tomandolos de los datos descargados de NAFTRAC, estos nos serviran despues para\n",
    " descargar los precios historicos de las acciones.\n",
    " Es importante mencionar que en el archivo los tickers no vienen, como deberia ser, entonces hay que quitarles los espacios, asteriscos y agregarles el .MX al final ya que todos son activos mexicanos."
   ],
   "metadata": {
    "collapsed": false
   }
  },
  {
   "cell_type": "code",
   "execution_count": null,
   "outputs": [],
   "source": [
    "# Obtener tickers\n",
    "tickers = fn.Tickers(data)\n",
    "tickers.head()"
   ],
   "metadata": {
    "collapsed": false,
    "pycharm": {
     "name": "#%%\n"
    }
   }
  },
  {
   "cell_type": "markdown",
   "source": [
    "## Pesos\n",
    "Otro punto importante son los pesos del portafolio, tambien incluidos en el archivo de NAFTRAC, ya que con estos sabremos que ponderacion hay que darle a cada accion."
   ],
   "metadata": {
    "collapsed": false
   }
  },
  {
   "cell_type": "code",
   "execution_count": null,
   "outputs": [],
   "source": [
    "# Obtener pesos para el portafolio\n",
    "weight = fn.Weight(data)\n",
    "weight.head()"
   ],
   "metadata": {
    "collapsed": false,
    "pycharm": {
     "name": "#%%\n"
    }
   }
  },
  {
   "cell_type": "markdown",
   "source": [
    "## Precios\n",
    "Para esta serie de tiempo vamos a tomar los precios de cierre de yahoo finance, para los tickers antes obtenidos de NAFTRAC."
   ],
   "metadata": {
    "collapsed": false
   }
  },
  {
   "cell_type": "code",
   "execution_count": null,
   "outputs": [],
   "source": [
    "# Despues de limpiar los datos descargar los precios\n",
    "precios = fn.Get_price(fn.tickers)\n",
    "precios.head()"
   ],
   "metadata": {
    "collapsed": false,
    "pycharm": {
     "name": "#%%\n"
    }
   }
  },
  {
   "cell_type": "code",
   "execution_count": null,
   "outputs": [],
   "source": [],
   "metadata": {
    "collapsed": false,
    "pycharm": {
     "name": "#%%\n"
    }
   }
  },
  {
   "cell_type": "markdown",
   "source": [
    "## Parametros del ejercicio\n",
    "Una inversion de $1,000,000$ de pesos en el ETF de Blackrock, NAFTRAC, en el cual se asumira una comision de $0.00125$ por transaccion.\n",
    "\n"
   ],
   "metadata": {
    "collapsed": false
   }
  },
  {
   "cell_type": "code",
   "execution_count": null,
   "outputs": [],
   "source": [
    "# Definir datos del problema\n",
    "# Monto a invertir\n",
    "i = 1000000\n",
    "# Comision\n",
    "c = 0.00125"
   ],
   "metadata": {
    "collapsed": false,
    "pycharm": {
     "name": "#%%\n"
    }
   }
  },
  {
   "cell_type": "markdown",
   "source": [
    "## Portafolio\n",
    "Para formar el portafolio hay que dividir el dinero destinado a cada accion entre el precio y rendondearlo hacia abajo, esto nos dira el numero de acciones que hay que comprar."
   ],
   "metadata": {
    "collapsed": false
   }
  },
  {
   "cell_type": "code",
   "execution_count": null,
   "outputs": [],
   "source": [
    "# Funcion para generar el portafolio\n",
    "port = fn.Port(i)\n",
    "port.head()"
   ],
   "metadata": {
    "collapsed": false,
    "pycharm": {
     "name": "#%%\n"
    }
   }
  },
  {
   "cell_type": "markdown",
   "source": [
    "## Valor inicial\n",
    "Es importante saber cual es el monto a invertir para todas esta acciones, y lo que sobre de este dinero podrá ser sumado al apartado de efectivo."
   ],
   "metadata": {
    "collapsed": false
   }
  },
  {
   "cell_type": "code",
   "execution_count": null,
   "outputs": [],
   "source": [
    "# Funcion para generar el valor total inicial del portafolio\n",
    "vi = fn.Port_in(port)\n",
    "vi"
   ],
   "metadata": {
    "collapsed": false,
    "pycharm": {
     "name": "#%%\n"
    }
   }
  },
  {
   "cell_type": "markdown",
   "source": [
    "## Cash\n",
    "Hay que tomar en cuenta el dinero que se tiene en efectivo para despues sumarlo al capital."
   ],
   "metadata": {
    "collapsed": false
   }
  },
  {
   "cell_type": "code",
   "execution_count": null,
   "outputs": [],
   "source": [
    "# Funcion para obtener el cash de la operacion\n",
    "cash = fn.Cash(i, vi, c)\n",
    "cash"
   ],
   "metadata": {
    "collapsed": false,
    "pycharm": {
     "name": "#%%\n"
    }
   }
  },
  {
   "cell_type": "markdown",
   "source": [
    "## Capital\n",
    "Para calcular el capital solo hay que multiplicar el numero de acciones por su precio en este periodo, tomando en cuenta su comision y sumarle el efectivo que se tiene."
   ],
   "metadata": {
    "collapsed": false
   }
  },
  {
   "cell_type": "code",
   "execution_count": null,
   "outputs": [],
   "source": [
    "# Funcion para obtener el Dataframe del capital de la operacion\n",
    "capital = fn.Capital(fn.precios, port, cash, vi)\n",
    "capital.head()"
   ],
   "metadata": {
    "collapsed": false,
    "pycharm": {
     "name": "#%%\n"
    }
   }
  },
  {
   "cell_type": "markdown",
   "source": [
    "## Rendimiento\n",
    "Cambio porcential en los precios a lo largo del tiempo."
   ],
   "metadata": {
    "collapsed": false
   }
  },
  {
   "cell_type": "code",
   "execution_count": null,
   "outputs": [],
   "source": [
    "# Funcion para obtener los rendimientos de la transaccion\n",
    "rend = fn.Rendimiento(capital)\n",
    "rend.head()"
   ],
   "metadata": {
    "collapsed": false,
    "pycharm": {
     "name": "#%%\n"
    }
   }
  },
  {
   "cell_type": "markdown",
   "source": [
    "## Rendimiento acumulado"
   ],
   "metadata": {
    "collapsed": false
   }
  },
  {
   "cell_type": "code",
   "execution_count": null,
   "outputs": [],
   "source": [
    "# Funcion para obtener el rendimiento acumulado\n",
    "ra = fn.Rend_acum(rend)\n",
    "ra.head()"
   ],
   "metadata": {
    "collapsed": false,
    "pycharm": {
     "name": "#%%\n"
    }
   }
  },
  {
   "cell_type": "markdown",
   "source": [
    "## Inversion Pasiva\n",
    "Resultados de lo que fue la simulacion de inversion pasiva en NAFTRAC."
   ],
   "metadata": {
    "collapsed": false
   }
  },
  {
   "cell_type": "code",
   "execution_count": null,
   "outputs": [],
   "source": [
    "# Dataframe con los resultados de la operacion\n",
    "df_p = fn.df_pasiva(fn.precios, capital, rend, ra)\n",
    "print(df_p)"
   ],
   "metadata": {
    "collapsed": false,
    "pycharm": {
     "name": "#%%\n"
    }
   }
  },
  {
   "cell_type": "markdown",
   "source": [
    "<br>"
   ],
   "metadata": {
    "collapsed": false
   }
  },
  {
   "cell_type": "markdown",
   "source": [
    "# <font color= #6B6B6B> <font size = 6> 5. Conclusiones </font>"
   ],
   "metadata": {
    "collapsed": false
   }
  },
  {
   "cell_type": "markdown",
   "source": [
    "<hr style=\"border:0.02in solid gray\"> </hr>"
   ],
   "metadata": {
    "collapsed": false
   }
  },
  {
   "cell_type": "markdown",
   "source": [],
   "metadata": {
    "collapsed": false
   }
  },
  {
   "cell_type": "markdown",
   "source": [
    "Como se puede observar, al final se perdio dinero al hacer esta inversión, lo malo de hacer la inversion pasiva es que no se esta haciendo un rebalanceo ni un seguimiento de lo que esta pasando, y si se empieza a ver una tendencia negativa como en este caso,puede que su practica no sea muy conveniente."
   ],
   "metadata": {
    "collapsed": false
   }
  },
  {
   "cell_type": "code",
   "execution_count": null,
   "outputs": [],
   "source": [],
   "metadata": {
    "collapsed": false,
    "pycharm": {
     "name": "#%%\n"
    }
   }
  }
 ],
 "metadata": {
  "kernelspec": {
   "display_name": "Python 3",
   "language": "python",
   "name": "python3"
  },
  "language_info": {
   "codemirror_mode": {
    "name": "ipython",
    "version": 3
   },
   "file_extension": ".py",
   "mimetype": "text/x-python",
   "name": "python",
   "nbconvert_exporter": "python",
   "pygments_lexer": "ipython3",
   "version": "3.8.5"
  }
 },
 "nbformat": 4,
 "nbformat_minor": 4
}